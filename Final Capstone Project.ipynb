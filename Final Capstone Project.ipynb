{
 "cells": [
  {
   "cell_type": "markdown",
   "metadata": {},
   "source": [
    "# Final Capstone Project"
   ]
  },
  {
   "cell_type": "markdown",
   "metadata": {},
   "source": [
    "## What constitutes an ideal city?"
   ]
  },
  {
   "cell_type": "markdown",
   "metadata": {},
   "source": [
    "### Introduction/Business Problem\n",
    "\n"
   ]
  },
  {
   "cell_type": "markdown",
   "metadata": {},
   "source": [
    "I will be conducting an analysis the 5 top ranked and the 5 lowest ranked cities to live in the US according to the 2019 Best Places to Live Research conducted by US NEWS. \n",
    "\n",
    "The Following Cities will be analyzed:\n",
    "\n",
    "Rank #1: Austin, TX\n",
    "\n",
    "Rank #2: Denver, CO\n",
    "\n",
    "Rank #3: Colorado Springs, CO\n",
    "\n",
    "Rank #4: Fayetteville, AR\n",
    "\n",
    "Rank #5: Des Moines, IA\n",
    "\n",
    "\n",
    "\n",
    "Rank #125: San Juan, PR\n",
    "\n",
    "Rank #124: Bakersfield, CA\n",
    "\n",
    "Rank #123: Stockton, CA\n",
    "\n",
    "Rank #122: Shreveport, LA\n",
    "\n",
    "Rank #121: Mobile, AL\n",
    "\n",
    "\n",
    "It should be noted that the Lowest Ranked Cities, are not the worst cities to live in. Rather, they are the cities ranked 123-124th in the list of best places to live.\n",
    "\n",
    "### Problem: \n",
    "In order to be competitive in the Realestate business, or to personally purchase home in a nice neighborhood before the prices of homes rise, it is important to use data to predict potential cities that will become popular in the future. Although the Rankings provided by USNEWS is very helpful in determining current hotspots, as potential home buyers, it is imperative to be ahead of the curve and purchase a home in a city before the popularity and prices rise. Therefore, using the data gathered from Foursquare, we will attempt to identify variables that correllate with city popularity, which could potentially help us find cities that will become popular in the future.\n",
    "\n",
    "\n",
    "### Procedure:\n",
    "I will be using the Foursquare API to determine the frequency and ratio of venue types in each of the cities to determine whether there are any significant correlation between the venues found in a city and its overall score as a city. If possible, we will use a machine learning algorithm make prediction of an overall score for a city.\n",
    "\n",
    "This analysis may be useful to the following groups:\n",
    "\n",
    "1. Realestate Agents looking for potential cities to work in.\n",
    "2. Individuals looking for a good place to live.\n",
    "3. City developers and officials seeking to improve their cities can also use this information to determine what types of venues to increase or decrease.\n",
    "\n"
   ]
  },
  {
   "cell_type": "markdown",
   "metadata": {},
   "source": [
    "**According to US NEWS, the following criterias were used to determine the ranking of each city:**\n",
    "\n",
    "# 2019 Best Places to Live Methodology\n",
    "U.S. News & World Report's Best Places to Live rankings are intended to help readers make the most informed decision when choosing where to settle down. The metro areas included in the rankings are evaluated using data from trusted sources like the United States Census Bureau, the Federal Bureau of Investigation, the Department of Labor and U.S. News' own internal resources. This data was categorized into the five indexes listed below and then evaluated using a methodology determined by Americans' preferences. The percent weighting for each index follows the answers from a public survey in which people from across the country voted for what they believed was the most important thing to consider when thinking about moving.\n",
    "\n",
    "## Job Market Index (20 percent)\n",
    "The Job Market Index measures the strength of each metro area's job market. To do this, we've assessed the following two factors to determine how likely residents will be to find employment and what their earning potential will be:\n",
    "\n",
    "Unemployment Rate (50 percent): We've calculated the 12-month moving unemployment rate using data from the United States Department of Labor's Bureau of Labor Statistics (BLS). This represents whether or not the job market is growing, struggling or remaining stable.\n",
    "Average Salary (50 percent): The average salary, as calculated by the BLS, is the best indicator of earning potential in a metro area.\n",
    "\n",
    "## Value Index (25 percent)\n",
    "The Value Index, also called Housing Affordability Index, measures how comfortably the average resident of each metro area can afford to live within his or her means. To accomplish this, we compared the median annual household income to the housing cost in that metro area. The Value Index is determined by dividing the blended annual housing cost by the blended median annual household income for each metro area.\n",
    "\n",
    "Blended Median Annual Household Income: Using data from the U.S. Census, we determined the percentage of the metro area population that owns a home with mortgage and the percentage of the population that rents a home. Using those percentages, we calculated a blended median annual household income for each metro area.\n",
    "Blended Annual Housing Cost: To determine the annual housing cost for homeowners who pay mortgage in each metro area, we consulted the U.S. Census, which collects data on the amount homeowners pay for housing (including mortgage, utilities and taxes). For housing cost for renters, we collect median gross rent of each metro area, which includes utilities if it’s paid by renters. We multiplied the cost of living for both owners and renters by 12 to get the annual cost, and then using our ratio of renters to owners, we calculated the blended annual housing cost.\n",
    "\n",
    "## Quality of Life Index (30 percent)\n",
    "The Quality of Life Index measures how satisfied residents are with their daily lives in each ranked metro area. To calculate the Quality of Life scores, we evaluated the following aspects of life in each metro area using a weighted average. To determine the weightings, we surveyed people across the U.S. to see how important they considered each of the aspects evaluated in the index. The Quality of Life Index takes into account:\n",
    "\n",
    "Crime Rates (30 percent): We've measured each metro area's murder and property crime rates per 100,000 people, as determined by the Federal Bureau of Investigation's Uniform Crime Reports.\n",
    "Quality and Availability of Health Care (10 percent): Using data from the U.S. News Best Hospitals rankings, we measured the availability of quality health care by determining the quantity of ranked facilities within 50, 100 and 250 miles of each metro area.\n",
    "Quality of Education (25 percent): Using data from the U.S. News Best High Schools rankings, we determined the availability of quality education by calculating the average college readiness score of all public schools in the metro area and comparing it to that of all the other ranked metro areas.\n",
    "Well-being (15 percent): We use the composite score from the Gallup-Sharecare Well-Being Index (which analyzes resident satisfaction in the following areas: purpose, social, financial, community and physical) as a representation of whether or not residents of each metro area are generally happy with their day-to-day lives.\n",
    "Commuter Index (20 percent): The Commuter Index uses the U.S. Census' calculation of average commute time, which is a composite of the time spent traveling door-to-door, whether by foot, public transit, car or bicycle.\n",
    "\n",
    "## Desirability Index (15 percent)\n",
    "The Desirability Index measures whether or not people want to live in a given metro area. To determine this, we asked people from all over the country to tell us where they'd prefer to live.\n",
    "\n",
    "Desirability Survey: Using SurveyMonkey, we polled approximately 2,500 people across the country to find out in which of the ranked metro areas they would most like to live. The metro areas were then ranked according to the percentage of the total votes they received.\n",
    "Net Migration 10 percent\n",
    "Net Migration measures whether people are moving to or away from each of the metro areas. While the Desirability Index measures whether or not a metro area is appealing, Net Migration represents whether or not a metro area is actually attracting new residents.\n",
    "\n",
    "Net Migration: Using data from the U.S. Census – and eliminating any fluctuations caused by births or deaths – we've determined how many people are moving to or away from each metro area.\n",
    "Note: If a piece of data is not available for a given metro area, we adjust the weighting of the other scoring categories for which we had data on a pro rata basis with the aim that no metro area benefits or suffers from missing data.\n",
    "\n",
    "## How We Did the Math\n",
    "The data we collected from each of our sources came in a variety of forms, from flat numbers to negative numbers to percentages. Before imputing each data point into our equations, we had to standardize it so that it could be compared on an apples-to-apples basis with other data points we evaluated.\n",
    "\n",
    "In order to balance these metrics, we used a standard deviation (or Z-Score) calculation to determine each data point's differentiation from the data set's mean, and then used the Z-Score to create a standardized U.S. News score using the method outlined below:\n",
    "\n",
    "Calculating the Z-Score: The Z-Score represents a data point's relation to the mean measurement of the data set. The Z-Score is a negative when the data point is below the mean and positive when it's above the mean; a Z-Score of 0 means it's equal to the mean. To determine the Z-Score for each data point, we calculated the mean of that same data point across all ranked metro areas. We then subtracted the data point from the mean and divided it by the standard deviation.\n",
    "Calculating the T-Score: We used a T-Score calculation to convert the Z-Score to a 0-100 scale by multiplying the Z-Score by 10. To ensure that the mean was equal across all data points, we added our desired scoring mean (between 0 and 10) to the T-Score to create an adjusted T-Score.\n",
    "Calculating the U.S. News Score: To calculate the U.S. News Score, we divided the adjusted T-Score by 10 to create a 0-10 point system across the board that would allow us to accurately apply our methodology."
   ]
  },
  {
   "cell_type": "code",
   "execution_count": null,
   "metadata": {},
   "outputs": [],
   "source": []
  }
 ],
 "metadata": {
  "kernelspec": {
   "display_name": "Python 3",
   "language": "python",
   "name": "python3"
  },
  "language_info": {
   "codemirror_mode": {
    "name": "ipython",
    "version": 3
   },
   "file_extension": ".py",
   "mimetype": "text/x-python",
   "name": "python",
   "nbconvert_exporter": "python",
   "pygments_lexer": "ipython3",
   "version": "3.7.1"
  }
 },
 "nbformat": 4,
 "nbformat_minor": 2
}
